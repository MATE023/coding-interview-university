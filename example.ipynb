{
  "nbformat": 4,
  "nbformat_minor": 0,
  "metadata": {
    "colab": {
      "name": "example.ipynb",
      "provenance": [],
      "authorship_tag": "ABX9TyOpq/4uqFUjB+mT4WRxWgFi",
      "include_colab_link": true
    },
    "kernelspec": {
      "name": "python3",
      "display_name": "Python 3"
    },
    "language_info": {
      "name": "python"
    }
  },
  "cells": [
    {
      "cell_type": "markdown",
      "metadata": {
        "id": "view-in-github",
        "colab_type": "text"
      },
      "source": [
        "<a href=\"https://colab.research.google.com/github/MATE023/coding-interview-university/blob/main/example.ipynb\" target=\"_parent\"><img src=\"https://colab.research.google.com/assets/colab-badge.svg\" alt=\"Open In Colab\"/></a>"
      ]
    },
    {
      "cell_type": "code",
      "metadata": {
        "colab": {
          "base_uri": "https://localhost:8080/"
        },
        "id": "VtUx_4n5WGIr",
        "outputId": "71c1f1dc-1169-440d-9cfc-bc94183e3cbc"
      },
      "source": [
        "import tensorflow as tf\n",
        "\n",
        "mnist = tf.keras.datasets.mnist\n",
        "\n",
        "(x_train, y_train), (x_test, y_test) = mnist.load_data()\n",
        "x_train, x_test = x_train / 255.0, x_test / 255.0\n",
        "\n",
        "model = tf.keras.models.Sequential([\n",
        "        tf.keras.layers.Flatten(input_shape=(28, 28)),\n",
        "        tf.keras.layers.Dense(128, activation = 'relu'),\n",
        "        tf.keras.layers.Dropout(0.2),\n",
        "        tf.keras.layers.Dense(10)\n",
        "])\n",
        "\n",
        "predictions = model(x_train[:1]).numpy()\n",
        "predictions\n",
        "\n",
        "tf.nn.softmax(predictions).numpy()\n",
        "\n",
        "loss_fn = tf.keras.losses.SparseCategoricalCrossentropy(from_logits = True)\n",
        "\n",
        "loss_fn(y_train[:1], predictions).numpy()\n",
        "\n",
        "model.compile(optimizer='adam',\n",
        "              loss=loss_fn,\n",
        "              metrics=['accuracy'])\n",
        "\n",
        "model.fit(x_train, y_train, epochs=5)\n",
        "\n",
        "model.evaluate(x_test, y_test, verbose=2)\n",
        "\n",
        "probability_model = tf.keras.Sequential([\n",
        "     model,\n",
        "     tf.keras.layers.Softmax()   \n",
        "])\n",
        "\n",
        "probability_model(x_test[:5])"
      ],
      "execution_count": 8,
      "outputs": [
        {
          "output_type": "stream",
          "text": [
            "Epoch 1/5\n",
            "1875/1875 [==============================] - 4s 2ms/step - loss: 0.2980 - accuracy: 0.9135\n",
            "Epoch 2/5\n",
            "1875/1875 [==============================] - 4s 2ms/step - loss: 0.1431 - accuracy: 0.9578\n",
            "Epoch 3/5\n",
            "1875/1875 [==============================] - 4s 2ms/step - loss: 0.1075 - accuracy: 0.9684\n",
            "Epoch 4/5\n",
            "1875/1875 [==============================] - 4s 2ms/step - loss: 0.0860 - accuracy: 0.9738\n",
            "Epoch 5/5\n",
            "1875/1875 [==============================] - 4s 2ms/step - loss: 0.0747 - accuracy: 0.9773\n",
            "313/313 - 0s - loss: 0.0735 - accuracy: 0.9779\n"
          ],
          "name": "stdout"
        },
        {
          "output_type": "execute_result",
          "data": {
            "text/plain": [
              "<tf.Tensor: shape=(5, 10), dtype=float32, numpy=\n",
              "array([[4.75816222e-08, 4.65037608e-09, 5.16909085e-06, 4.56390189e-05,\n",
              "        5.50334387e-12, 3.55730201e-08, 3.53669053e-14, 9.99948144e-01,\n",
              "        3.33836908e-07, 6.07653533e-07],\n",
              "       [2.09185141e-10, 1.71996214e-06, 9.99994636e-01, 2.02505157e-06,\n",
              "        5.44608726e-18, 1.57547026e-06, 1.18348655e-08, 3.99439728e-17,\n",
              "        2.27006525e-09, 3.29606371e-14],\n",
              "       [6.78856438e-08, 9.99739110e-01, 1.52363418e-05, 1.14801087e-05,\n",
              "        4.00254612e-06, 1.94606309e-05, 3.09485040e-05, 6.87998981e-05,\n",
              "        1.10365290e-04, 4.88735623e-07],\n",
              "       [9.99920368e-01, 1.19082699e-09, 5.10851060e-05, 9.09542052e-07,\n",
              "        6.12013507e-09, 5.26049052e-06, 2.14318443e-05, 1.40828917e-07,\n",
              "        7.68778747e-08, 7.38916754e-07],\n",
              "       [1.47866530e-07, 1.78479496e-07, 7.84210897e-06, 7.69098108e-07,\n",
              "        9.97146428e-01, 9.17308469e-08, 7.09910978e-07, 5.42321068e-05,\n",
              "        1.74879312e-06, 2.78781727e-03]], dtype=float32)>"
            ]
          },
          "metadata": {
            "tags": []
          },
          "execution_count": 8
        }
      ]
    }
  ]
}